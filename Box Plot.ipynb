{
 "cells": [
  {
   "cell_type": "code",
   "execution_count": 5,
   "metadata": {
    "collapsed": false
   },
   "outputs": [
    {
     "data": {
      "image/png": "[encoded data removed]",
      "text/plain": [
       "<matplotlib.figure.Figure at 0x10b861c90>"
      ]
     },
     "metadata": {},
     "output_type": "display_data"
    }
   ],
   "source": [
    "%matplotlib inline\n",
    "import numpy\n",
    "import partmc\n",
    "import scipy\n",
    "import mpl_helper\n",
    "import config\n",
    "import random\n",
    "import matplotlib\n",
    "import math\n",
    "import sys\n",
    "\n",
    "import matplotlib.pyplot as plt\n",
    "from IPython.html.widgets import interact, interactive, fixed\n",
    "from IPython.html import widgets\n",
    "\n",
    "def grid_box_histogram(time):\n",
    "\n",
    "    # filename prefix\n",
    "    dir = config.data_dir\n",
    "    prefix = config.file_prefix\n",
    "    filename =  '%s_%08i.nc' %(prefix,time)\n",
    "\n",
    "    # make grids\n",
    "    diam_axis = partmc.log_grid(min=1e-9,max=1e-6,n_bin=60)\n",
    "    bc_axis = partmc.linear_grid(min=0,max=1.,n_bin=50)\n",
    "\n",
    "    # load the file\n",
    "    ncf = scipy.io.netcdf.netcdf_file(config.data_dir+'/'+filename, 'r')\n",
    "    particles = partmc.aero_particle_array_t(ncf)\n",
    "    ncf.close()\n",
    "\n",
    "    # compute the values\n",
    "    bc = particles.masses(include = [\"BC\"])\n",
    "    dry_mass = particles.masses(exclude = [\"H2O\"])\n",
    "    bc_frac = bc / dry_mass\n",
    "    dry_diameters = particles.dry_diameters()\n",
    "\n",
    "    # 2D histogram\n",
    "    hist_2d_bc = partmc.histogram_2d(dry_diameters, bc_frac, diam_axis, bc_axis,\n",
    "         weights = 1 / particles.comp_vols)\n",
    "    # convert\n",
    "    hist_2d_bc /= 1e6\n",
    "\n",
    "    # create the figure\n",
    "    width_in = 10.0\n",
    "    (figure, axes, cbar_axes) = mpl_helper.make_fig(figure_width=width_in,\n",
    "        colorbar=True,left_margin=.7,right_margin=1.1, top_margin=0.3,\n",
    "        bottom_margin=.65, colorbar_height_fraction=0.8)\n",
    "\n",
    "    # Data min and max\n",
    "    # we want this to be fixed for all time\n",
    "    data_min = 10**2 #min(data_mins)\n",
    "    data_max = 10**6 #max(data_maxes)\n",
    "\n",
    "    norm = matplotlib.colors.LogNorm(vmin=data_min, vmax=data_max)\n",
    "    p = axes.pcolormesh(diam_axis.edges()/1e-6, bc_axis.edges()*100, \n",
    "        hist_2d_bc.transpose(),norm = norm, linewidths = 0.1, edgecolors='None')\n",
    "\n",
    "    # make the plot pretty\n",
    "    axes.set_xscale('log')\n",
    "    axes.set_yscale('linear')\n",
    "    xlabel = r'diameter $(\\mu \\rm m)$'\n",
    "    ylabel = r'BC mass fraction'\n",
    "    axes.set_xlabel(xlabel)\n",
    "    axes.set_ylabel(ylabel)\n",
    "    axes.set_xlim(.005,1)\n",
    "    axes.set_ylim(0,80)\n",
    "    axes.set_yticks([0,20,40,60,80])\n",
    "    axes.grid(True)\n",
    "\n",
    "    # colorbar\n",
    "    cbar = figure.colorbar(p, cax=cbar_axes,\n",
    "                format=matplotlib.ticker.LogFormatterMathtext(),\n",
    "                orientation='vertical')\n",
    "    kwargs = {}\n",
    "    kwargs[\"format\"] = matplotlib.ticker.LogFormatterMathtext()\n",
    "    cmappable = matplotlib.cm.ScalarMappable(norm=norm)\n",
    "    cmappable.set_array(numpy.array([hist_2d_bc.min(), hist_2d_bc.max()]))\n",
    "    cbar_label = r\"num. conc. $(\\rm cm^{-3})$\"\n",
    "    cbar.set_label(cbar_label)\n",
    "    cbar.solids.set_edgecolor(\"face\")\n",
    "\n",
    "    # Save figure and print name\n",
    "    #fig_name = '%s/bc_plot_%08i.pdf' % \\\n",
    "    #   (config.fig_dir, time)\n",
    "    #figure.savefig(fig_name)\n",
    "\n",
    "    #plt.plot()\n",
    "    \n",
    "    # print name in case we need it\n",
    "    #print fig_name\n",
    "\n",
    "    return\n",
    "\n",
    "# Get args from command line\n",
    "#time = int(2)\n",
    "#print x,y,z,time\n",
    "# Call the plot function for grid cell\n",
    "#grid_box_histogram(time)\n",
    "\n",
    "interact(grid_box_histogram, time=widgets.IntSlider(min=1,max=24,value=1))"
   ]
  },
  {
   "cell_type": "code",
   "execution_count": null,
   "metadata": {
    "collapsed": true
   },
   "outputs": [],
   "source": []
  }
 ],
 "metadata": {
  "kernelspec": {
   "display_name": "Python 2",
   "language": "python",
   "name": "python2"
  },
  "language_info": {
   "codemirror_mode": {
    "name": "ipython",
    "version": 2
   },
   "file_extension": ".py",
   "mimetype": "text/x-python",
   "name": "python",
   "nbconvert_exporter": "python",
   "pygments_lexer": "ipython2",
   "version": "2.7.9"
  }
 },
 "nbformat": 4,
 "nbformat_minor": 0
}
