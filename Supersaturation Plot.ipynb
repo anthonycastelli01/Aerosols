{
 "cells": [
  {
   "cell_type": "code",
   "execution_count": 3,
   "metadata": {
    "collapsed": false
   },
   "outputs": [
    {
     "name": "stdout",
     "output_type": "stream",
     "text": [
      "urban_plume_4m_0001_00000001.nc\n"
     ]
    },
    {
     "data": {
      "image/png": "[encoded data removed]",
      "text/plain": [
       "<matplotlib.figure.Figure at 0x10c40b110>"
      ]
     },
     "metadata": {},
     "output_type": "display_data"
    }
   ],
   "source": [
    "%matplotlib inline\n",
    "import sys, os\n",
    "sys.path.append(\"../../tool\")\n",
    "import mpl_helper\n",
    "import matplotlib\n",
    "import matplotlib.cm\n",
    "import matplotlib.ticker\n",
    "import matplotlib.pyplot as plt\n",
    "import partmc_new as partmc\n",
    "import scipy.io, numpy as np\n",
    "\n",
    "from IPython.html.widgets import interact, interactive, fixed\n",
    "from IPython.html import widgets\n",
    "\n",
    "# Sets the size of the plots\n",
    "width_in = 10.0\n",
    "\n",
    "#def make_plot(dir_name,in_filename,out_filename):\n",
    "def make_plot(dir_name, in_filename):\n",
    "    ncf = scipy.io.netcdf.netcdf_file(dir_name+in_filename, 'r')\n",
    "    \n",
    "    particles = partmc.aero_particle_array_t(ncf)\n",
    "    env_state = partmc.env_state_t(ncf)\n",
    "    ncf.close()\n",
    "\n",
    "    dry_diameters = particles.dry_diameters() * 1e6\n",
    "\n",
    "    s_crit = (particles.critical_rel_humids(env_state) - 1)*100\n",
    "    \n",
    "    x_axis = partmc.log_grid(min=1e-3,max=1e1,n_bin=100)\n",
    "    y_axis = partmc.log_grid(min=1e-3,max=1e2,n_bin=50)\n",
    "\n",
    "    hist2d = partmc.histogram_2d(dry_diameters, s_crit, x_axis, y_axis, weights = particles.num_concs)\n",
    "\n",
    "    hist2d = hist2d * 1e-6\n",
    "\n",
    "    (figure, axes_array, cbar_axes_array) = mpl_helper.make_fig_array(1,1, figure_width=width_in,\n",
    "                                    top_margin=0.5, bottom_margin=0.45,\n",
    "                                    left_margin=0.65, right_margin=1,\n",
    "                                    vert_sep=0.3, horiz_sep=0.3,\n",
    "                                    colorbar=\"shared\", colorbar_location=\"right\")\n",
    "\n",
    "    axes = axes_array[0][0]\n",
    "    cbar_axes = cbar_axes_array[0]\n",
    "    p = axes.pcolor(x_axis.edges(), y_axis.edges(), hist2d.transpose(), \n",
    "            norm = matplotlib.colors.LogNorm(vmin=1e3, vmax=1e5), linewidths = 0.1)\n",
    "    axes.set_xscale(\"log\")\n",
    "    axes.set_yscale(\"log\")\n",
    "    axes.set_ylabel(r\"crit. supersat. $S_{\\rm c}$\")\n",
    "    axes.set_xlabel(r\"dry diameter $D$/ $\\rm \\mu m$\")\n",
    "    axes.set_ylim(1e-3,10)\n",
    "    axes.set_xlim(5e-3, 1e0)\n",
    "    axes.grid(True)\n",
    "    cbar = figure.colorbar(p, cax=cbar_axes, format=matplotlib.ticker.LogFormatterMathtext(),\n",
    "                orientation='vertical')\n",
    "    cbar_axes.xaxis.set_label_position('top')\n",
    "    cbar.set_label(r\"number conc. $n(D,S_{\\rm c})$ / $\\rm cm^{-3}$\")\n",
    "    \n",
    "    mpl_helper.remove_fig_array_axes(axes_array)\n",
    "    #figure.savefig(out_filename)\n",
    "    #plt.close()\n",
    "    \n",
    "dir_name = \"data_new/\"\n",
    "\n",
    "#for counter in range(1, 25):\n",
    "    #print \"counter = \",  counter\n",
    "\n",
    "    #filename_in = \"urban_plume_0001_0000%04d.nc\" % counter\n",
    "    #filename_out = \"figs/2d_sc_4m_%04d.pdf\" % (counter-1)\n",
    "    #print filename_in\n",
    "    #print filename_out\n",
    "\n",
    "    #make_plot(dir_name, filename_in, filename_out)\n",
    "    #make_plot(dir_name, filename_in)\n",
    "\n",
    "#for counter in range(1, 25):\n",
    "#    print \"counter = \",  counter\n",
    "#\n",
    "#    filename_in = \"urban_plume_2m_0001_0000%04d.nc\" % counter\n",
    "#    filename_out = \"figs/2d_sc_2m_%04d.pdf\" % (counter-1)\n",
    "#    print filename_in\n",
    "#    print filename_out\n",
    "\n",
    "    #make_plot(dir_name, filename_in, filename_out)\n",
    "    \n",
    "def plot_data(time):\n",
    "    filename = \"urban_plume_4m_0001_0000%04d.nc\" % time\n",
    "    print filename\n",
    "    make_plot(dir_name, filename)\n",
    "    \n",
    "interact(plot_data,\n",
    "         time=widgets.IntSlider(min=1,max=25,value=1))"
   ]
  }
 ],
 "metadata": {
  "kernelspec": {
   "display_name": "Python 2",
   "language": "python",
   "name": "python2"
  },
  "language_info": {
   "codemirror_mode": {
    "name": "ipython",
    "version": 2
   },
   "file_extension": ".py",
   "mimetype": "text/x-python",
   "name": "python",
   "nbconvert_exporter": "python",
   "pygments_lexer": "ipython2",
   "version": "2.7.9"
  }
 },
 "nbformat": 4,
 "nbformat_minor": 0
}
