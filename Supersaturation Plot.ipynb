{
 "cells": [
  {
   "cell_type": "code",
   "execution_count": 3,
   "metadata": {
    "collapsed": false
   },
   "outputs": [
    {
     "name": "stdout",
     "output_type": "stream",
     "text": [
      "urban_plume_4m_0001_00000001.nc\n"
     ]
    },
    {
     "ename": "Exception",
     "evalue": "aero_comp_vol variable not found in NetCDF file",
     "output_type": "error",
     "traceback": [
      "\u001b[0;31m---------------------------------------------------------------------------\u001b[0m",
      "\u001b[0;31mException\u001b[0m                                 Traceback (most recent call last)",
      "\u001b[0;32m<ipython-input-3-e46497b93ba7>\u001b[0m in \u001b[0;36mplot_data\u001b[0;34m(time)\u001b[0m\n\u001b[1;32m     88\u001b[0m     \u001b[0mfilename\u001b[0m \u001b[0;34m=\u001b[0m \u001b[0;34m\"urban_plume_4m_0001_0000%04d.nc\"\u001b[0m \u001b[0;34m%\u001b[0m \u001b[0mtime\u001b[0m\u001b[0;34m\u001b[0m\u001b[0m\n\u001b[1;32m     89\u001b[0m     \u001b[0mprint\u001b[0m \u001b[0;34m(\u001b[0m\u001b[0mfilename\u001b[0m\u001b[0;34m)\u001b[0m\u001b[0;34m\u001b[0m\u001b[0m\n\u001b[0;32m---> 90\u001b[0;31m     \u001b[0mmake_plot\u001b[0m\u001b[0;34m(\u001b[0m\u001b[0mdir_name\u001b[0m\u001b[0;34m,\u001b[0m \u001b[0mfilename\u001b[0m\u001b[0;34m)\u001b[0m\u001b[0;34m\u001b[0m\u001b[0m\n\u001b[0m\u001b[1;32m     91\u001b[0m \u001b[0;34m\u001b[0m\u001b[0m\n\u001b[1;32m     92\u001b[0m interact(plot_data,\n",
      "\u001b[0;32m<ipython-input-3-e46497b93ba7>\u001b[0m in \u001b[0;36mmake_plot\u001b[0;34m(dir_name, in_filename)\u001b[0m\n\u001b[1;32m     21\u001b[0m     \u001b[0mncf\u001b[0m \u001b[0;34m=\u001b[0m \u001b[0mscipy\u001b[0m\u001b[0;34m.\u001b[0m\u001b[0mio\u001b[0m\u001b[0;34m.\u001b[0m\u001b[0mnetcdf\u001b[0m\u001b[0;34m.\u001b[0m\u001b[0mnetcdf_file\u001b[0m\u001b[0;34m(\u001b[0m\u001b[0mdir_name\u001b[0m\u001b[0;34m+\u001b[0m\u001b[0min_filename\u001b[0m\u001b[0;34m,\u001b[0m \u001b[0;34m'r'\u001b[0m\u001b[0;34m)\u001b[0m\u001b[0;34m\u001b[0m\u001b[0m\n\u001b[1;32m     22\u001b[0m \u001b[0;34m\u001b[0m\u001b[0m\n\u001b[0;32m---> 23\u001b[0;31m     \u001b[0mparticles\u001b[0m \u001b[0;34m=\u001b[0m \u001b[0mpartmc\u001b[0m\u001b[0;34m.\u001b[0m\u001b[0maero_particle_array_t\u001b[0m\u001b[0;34m(\u001b[0m\u001b[0mncf\u001b[0m\u001b[0;34m)\u001b[0m\u001b[0;34m\u001b[0m\u001b[0m\n\u001b[0m\u001b[1;32m     24\u001b[0m     \u001b[0menv_state\u001b[0m \u001b[0;34m=\u001b[0m \u001b[0mpartmc\u001b[0m\u001b[0;34m.\u001b[0m\u001b[0menv_state_t\u001b[0m\u001b[0;34m(\u001b[0m\u001b[0mncf\u001b[0m\u001b[0;34m)\u001b[0m\u001b[0;34m\u001b[0m\u001b[0m\n\u001b[1;32m     25\u001b[0m     \u001b[0mncf\u001b[0m\u001b[0;34m.\u001b[0m\u001b[0mclose\u001b[0m\u001b[0;34m(\u001b[0m\u001b[0;34m)\u001b[0m\u001b[0;34m\u001b[0m\u001b[0m\n",
      "\u001b[0;32m/Users/anthonycastelli/Desktop/Nicole/Jeff/partmc3.py\u001b[0m in \u001b[0;36m__init__\u001b[0;34m(self, ncf, n_particles, aero_data, include_ids, exclude_ids)\u001b[0m\n\u001b[1;32m    686\u001b[0m                 \u001b[0mself\u001b[0m\u001b[0;34m.\u001b[0m\u001b[0m__dict__\u001b[0m\u001b[0;34m[\u001b[0m\u001b[0mself_var\u001b[0m\u001b[0;34m]\u001b[0m \u001b[0;34m=\u001b[0m \u001b[0;32mNone\u001b[0m\u001b[0;34m\u001b[0m\u001b[0m\n\u001b[1;32m    687\u001b[0m                 \u001b[0;32mif\u001b[0m \u001b[0mrequired\u001b[0m\u001b[0;34m:\u001b[0m\u001b[0;34m\u001b[0m\u001b[0m\n\u001b[0;32m--> 688\u001b[0;31m                     \u001b[0;32mraise\u001b[0m \u001b[0;34m(\u001b[0m\u001b[0mException\u001b[0m\u001b[0;34m(\u001b[0m\u001b[0;34m\"%s variable not found in NetCDF file\"\u001b[0m \u001b[0;34m%\u001b[0m \u001b[0mncf_var\u001b[0m\u001b[0;34m)\u001b[0m\u001b[0;34m)\u001b[0m\u001b[0;34m\u001b[0m\u001b[0m\n\u001b[0m\u001b[1;32m    689\u001b[0m \u001b[0;34m\u001b[0m\u001b[0m\n\u001b[1;32m    690\u001b[0m         \u001b[0;32mif\u001b[0m \u001b[0minclude_ids\u001b[0m \u001b[0;34m!=\u001b[0m \u001b[0;32mNone\u001b[0m \u001b[0;32mor\u001b[0m \u001b[0mexclude_ids\u001b[0m \u001b[0;34m!=\u001b[0m \u001b[0;32mNone\u001b[0m\u001b[0;34m:\u001b[0m\u001b[0;34m\u001b[0m\u001b[0m\n",
      "\u001b[0;31mException\u001b[0m: aero_comp_vol variable not found in NetCDF file"
     ]
    },
    {
     "data": {
      "text/plain": [
       "<function __main__.plot_data>"
      ]
     },
     "execution_count": 3,
     "metadata": {},
     "output_type": "execute_result"
    }
   ],
   "source": [
    "%matplotlib inline\n",
    "import sys, os\n",
    "sys.path.append(\"../../tool\")\n",
    "import mpl_helper3 as mpl_helper\n",
    "import matplotlib\n",
    "import matplotlib.cm\n",
    "import matplotlib.ticker\n",
    "import matplotlib.pyplot as plt\n",
    "import partmc_new as partmc\n",
    "#import partmc3 as partmc\n",
    "import scipy.io, numpy as np\n",
    "\n",
    "from IPython.html.widgets import interact, interactive, fixed\n",
    "from IPython.html import widgets\n",
    "\n",
    "# Sets the size of the plots\n",
    "width_in = 10.0\n",
    "\n",
    "#def make_plot(dir_name,in_filename,out_filename):\n",
    "def make_plot(dir_name, in_filename):\n",
    "    ncf = scipy.io.netcdf.netcdf_file(dir_name+in_filename, 'r')\n",
    "    \n",
    "    particles = partmc.aero_particle_array_t(ncf)\n",
    "    env_state = partmc.env_state_t(ncf)\n",
    "    ncf.close()\n",
    "\n",
    "    dry_diameters = particles.dry_diameters() * 1e6\n",
    "\n",
    "    s_crit = (particles.critical_rel_humids(env_state) - 1)*100\n",
    "    \n",
    "    x_axis = partmc.log_grid(min=1e-3,max=1e1,n_bin=100)\n",
    "    y_axis = partmc.log_grid(min=1e-3,max=1e2,n_bin=50)\n",
    "\n",
    "    hist2d = partmc.histogram_2d(dry_diameters, s_crit, x_axis, y_axis, weights = particles.num_concs)\n",
    "\n",
    "    hist2d = hist2d * 1e-6\n",
    "\n",
    "    (figure, axes_array, cbar_axes_array) = mpl_helper.make_fig_array(1,1, figure_width=width_in,\n",
    "                                    top_margin=0.5, bottom_margin=0.45,\n",
    "                                    left_margin=0.65, right_margin=1,\n",
    "                                    vert_sep=0.3, horiz_sep=0.3,\n",
    "                                    colorbar=\"shared\", colorbar_location=\"right\")\n",
    "\n",
    "    axes = axes_array[0][0]\n",
    "    cbar_axes = cbar_axes_array[0]\n",
    "    p = axes.pcolor(x_axis.edges(), y_axis.edges(), hist2d.transpose(), \n",
    "            norm = matplotlib.colors.LogNorm(vmin=1e3, vmax=1e5), linewidths = 0.1)\n",
    "    axes.set_xscale(\"log\")\n",
    "    axes.set_yscale(\"log\")\n",
    "    axes.set_ylabel(r\"crit. supersat. $S_{\\rm c}$\")\n",
    "    axes.set_xlabel(r\"dry diameter $D$/ $\\rm \\mu m$\")\n",
    "    axes.set_ylim(1e-3,10)\n",
    "    axes.set_xlim(5e-3, 1e0)\n",
    "    axes.grid(True)\n",
    "    cbar = figure.colorbar(p, cax=cbar_axes, format=matplotlib.ticker.LogFormatterMathtext(),\n",
    "                orientation='vertical')\n",
    "    cbar_axes.xaxis.set_label_position('top')\n",
    "    cbar.set_label(r\"number conc. $n(D,S_{\\rm c})$ / $\\rm cm^{-3}$\")\n",
    "    \n",
    "    mpl_helper.remove_fig_array_axes(axes_array)\n",
    "    #figure.savefig(out_filename)\n",
    "    #plt.close()\n",
    "    \n",
    "dir_name = \"data_new/\"\n",
    "\n",
    "#for counter in range(1, 25):\n",
    "    #print \"counter = \",  counter\n",
    "\n",
    "    #filename_in = \"urban_plume_0001_0000%04d.nc\" % counter\n",
    "    #filename_out = \"figs/2d_sc_4m_%04d.pdf\" % (counter-1)\n",
    "    #print filename_in\n",
    "    #print filename_out\n",
    "\n",
    "    #make_plot(dir_name, filename_in, filename_out)\n",
    "    #make_plot(dir_name, filename_in)\n",
    "\n",
    "#for counter in range(1, 25):\n",
    "#    print \"counter = \",  counter\n",
    "#\n",
    "#    filename_in = \"urban_plume_2m_0001_0000%04d.nc\" % counter\n",
    "#    filename_out = \"figs/2d_sc_2m_%04d.pdf\" % (counter-1)\n",
    "#    print filename_in\n",
    "#    print filename_out\n",
    "\n",
    "    #make_plot(dir_name, filename_in, filename_out)\n",
    "    \n",
    "def plot_data(time):\n",
    "    filename = \"urban_plume_4m_0001_0000%04d.nc\" % time\n",
    "    print (filename)\n",
    "    make_plot(dir_name, filename)\n",
    "    \n",
    "interact(plot_data,\n",
    "         time=widgets.IntSlider(min=1,max=25,value=1))"
   ]
  },
  {
   "cell_type": "code",
   "execution_count": null,
   "metadata": {
    "collapsed": true
   },
   "outputs": [],
   "source": []
  },
  {
   "cell_type": "code",
   "execution_count": null,
   "metadata": {
    "collapsed": true
   },
   "outputs": [],
   "source": []
  },
  {
   "cell_type": "code",
   "execution_count": null,
   "metadata": {
    "collapsed": true
   },
   "outputs": [],
   "source": []
  },
  {
   "cell_type": "code",
   "execution_count": null,
   "metadata": {
    "collapsed": true
   },
   "outputs": [],
   "source": []
  }
 ],
 "metadata": {
  "kernelspec": {
   "display_name": "Python 3",
   "language": "python",
   "name": "python3"
  },
  "language_info": {
   "codemirror_mode": {
    "name": "ipython",
    "version": 3
   },
   "file_extension": ".py",
   "mimetype": "text/x-python",
   "name": "python",
   "nbconvert_exporter": "python",
   "pygments_lexer": "ipython3",
   "version": "3.4.3"
  }
 },
 "nbformat": 4,
 "nbformat_minor": 0
}
