{
 "cells": [
  {
   "cell_type": "code",
   "execution_count": null,
   "metadata": {
    "collapsed": false
   },
   "outputs": [
    {
     "name": "stdout",
     "output_type": "stream",
     "text": [
      "\n",
      "Note: if you're in the IPython notebook, mpld3.show() is not the best command\n",
      "      to use. Consider using mpld3.display(), or mpld3.enable_notebook().\n",
      "      See more information at http://mpld3.github.io/quickstart.html.\n",
      "\n",
      "You must interrupt the kernel to end this command\n",
      "\n",
      "Serving to http://127.0.0.1:8889/    [Ctrl-C to exit]\n"
     ]
    },
    {
     "name": "stderr",
     "output_type": "stream",
     "text": [
      "127.0.0.1 - - [08/Jun/2015 13:24:22] \"GET / HTTP/1.1\" 200 -\n",
      "Traceback (most recent call last):\n",
      "  File \"/usr/local/Cellar/python3/3.4.3/Frameworks/Python.framework/Versions/3.4/lib/python3.4/socketserver.py\", line 305, in _handle_request_noblock\n",
      "    self.process_request(request, client_address)\n",
      "  File \"/usr/local/Cellar/python3/3.4.3/Frameworks/Python.framework/Versions/3.4/lib/python3.4/socketserver.py\", line 331, in process_request\n",
      "    self.finish_request(request, client_address)\n",
      "  File \"/usr/local/Cellar/python3/3.4.3/Frameworks/Python.framework/Versions/3.4/lib/python3.4/socketserver.py\", line 344, in finish_request\n",
      "    self.RequestHandlerClass(request, client_address, self)\n",
      "  File \"/usr/local/Cellar/python3/3.4.3/Frameworks/Python.framework/Versions/3.4/lib/python3.4/socketserver.py\", line 673, in __init__\n",
      "    self.handle()\n",
      "  File \"/usr/local/Cellar/python3/3.4.3/Frameworks/Python.framework/Versions/3.4/lib/python3.4/http/server.py\", line 398, in handle\n",
      "    self.handle_one_request()\n",
      "  File \"/usr/local/Cellar/python3/3.4.3/Frameworks/Python.framework/Versions/3.4/lib/python3.4/http/server.py\", line 386, in handle_one_request\n",
      "    method()\n",
      "  File \"/usr/local/lib/python3.4/site-packages/mpld3/_server.py\", line 38, in do_GET\n",
      "    self.wfile.write(\"<html><head>\"\n",
      "  File \"/usr/local/Cellar/python3/3.4.3/Frameworks/Python.framework/Versions/3.4/lib/python3.4/socket.py\", line 394, in write\n",
      "    return self._sock.send(b)\n",
      "TypeError: 'str' does not support the buffer interface\n",
      "127.0.0.1 - - [08/Jun/2015 13:24:22] code 404, message Not Found\n"
     ]
    }
   ],
   "source": [
    "%matplotlib inline\n",
    "import matplotlib\n",
    "import matplotlib.pyplot as plt\n",
    "import numpy as np\n",
    "import mpld3\n",
    "from mpld3 import plugins, utils\n",
    "\n",
    "\n",
    "class LinkedView(plugins.PluginBase):\n",
    "    \"\"\"A simple plugin showing how multiple axes can be linked\"\"\"\n",
    "\n",
    "    JAVASCRIPT = \"\"\"\n",
    "    mpld3.register_plugin(\"linkedview\", LinkedViewPlugin);\n",
    "    LinkedViewPlugin.prototype = Object.create(mpld3.Plugin.prototype);\n",
    "    LinkedViewPlugin.prototype.constructor = LinkedViewPlugin;\n",
    "    LinkedViewPlugin.prototype.requiredProps = [\"idpts\", \"idline\", \"data\"];\n",
    "    LinkedViewPlugin.prototype.defaultProps = {}\n",
    "    function LinkedViewPlugin(fig, props){\n",
    "        mpld3.Plugin.call(this, fig, props);\n",
    "    };\n",
    "\n",
    "    LinkedViewPlugin.prototype.draw = function(){\n",
    "      var pts = mpld3.get_element(this.props.idpts);\n",
    "      var line = mpld3.get_element(this.props.idline);\n",
    "      var data = this.props.data;\n",
    "\n",
    "      function mouseover(d, i){\n",
    "        line.data = data[i];\n",
    "        line.elements().transition()\n",
    "            .attr(\"d\", line.datafunc(line.data))\n",
    "            .style(\"stroke\", this.style.fill);\n",
    "      }\n",
    "      pts.elements().on(\"mouseover\", mouseover);\n",
    "    };\n",
    "    \"\"\"\n",
    "\n",
    "    def __init__(self, points, line, linedata):\n",
    "        if isinstance(points, matplotlib.lines.Line2D):\n",
    "            suffix = \"pts\"\n",
    "        else:\n",
    "            suffix = None\n",
    "\n",
    "        self.dict_ = {\"type\": \"linkedview\",\n",
    "                      \"idpts\": utils.get_id(points, suffix),\n",
    "                      \"idline\": utils.get_id(line),\n",
    "                      \"data\": linedata}\n",
    "\n",
    "fig, ax = plt.subplots(3)\n",
    "\n",
    "# scatter periods and amplitudes\n",
    "np.random.seed(0)\n",
    "P = 0.2 + np.random.random(size=20)\n",
    "A = np.random.random(size=20)\n",
    "x = np.linspace(0, 10, 100)\n",
    "data = np.array([[x, Ai * np.sin(x / Pi)]\n",
    "                 for (Ai, Pi) in zip(A, P)])\n",
    "points = ax[1].scatter(P, A, c=P + A,\n",
    "                       s=200, alpha=0.5)\n",
    "ax[1].set_xlabel('Period')\n",
    "ax[1].set_ylabel('Amplitude')\n",
    "\n",
    "# create the line object\n",
    "lines = ax[0].plot(x, 0 * x, '-w', lw=3, alpha=0.5)\n",
    "ax[0].set_ylim(-1, 1)\n",
    "\n",
    "ax[0].set_title(\"Hover over points to see lines\")\n",
    "\n",
    "# transpose line data and add plugin\n",
    "linedata = data.transpose(0, 2, 1).tolist()\n",
    "plugins.connect(fig, LinkedView(points, lines[0], linedata))\n",
    "\n",
    "mpld3.show()"
   ]
  },
  {
   "cell_type": "code",
   "execution_count": null,
   "metadata": {
    "collapsed": true
   },
   "outputs": [],
   "source": []
  },
  {
   "cell_type": "code",
   "execution_count": null,
   "metadata": {
    "collapsed": true
   },
   "outputs": [],
   "source": []
  }
 ],
 "metadata": {
  "kernelspec": {
   "display_name": "Python 3",
   "language": "python",
   "name": "python3"
  },
  "language_info": {
   "codemirror_mode": {
    "name": "ipython",
    "version": 3
   },
   "file_extension": ".py",
   "mimetype": "text/x-python",
   "name": "python",
   "nbconvert_exporter": "python",
   "pygments_lexer": "ipython3",
   "version": "3.4.3"
  }
 },
 "nbformat": 4,
 "nbformat_minor": 0
}
