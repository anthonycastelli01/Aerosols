{
 "cells": [
  {
   "cell_type": "code",
   "execution_count": 1,
   "metadata": {
    "collapsed": false
   },
   "outputs": [],
   "source": [
    "%matplotlib inline\n",
    "import numpy as np\n",
    "import matplotlib\n",
    "import matplotlib.pyplot as plt\n",
    "from sklearn.datasets import load_iris\n",
    "\n",
    "import mpld3\n",
    "from mpld3 import plugins, utils\n",
    "\n",
    "from IPython.html.widgets import interact, interactive, fixed\n",
    "from IPython.html import widgets\n",
    "from IPython.html.widgets.interaction import interact_manual\n",
    "\n",
    "plots = 2\n",
    "fig, ax = plt.subplots(plots, plots, sharex=\"col\", sharey=\"row\", figsize=(8,8))\n",
    "points = []\n",
    "\n",
    "def setup_plot(scale):\n",
    "    #print(\"Hello \" + str(scale))\n",
    "    \n",
    "    data = load_iris()\n",
    "    X = data.data\n",
    "    y = data.target\n",
    "\n",
    "    # dither the data for clearer plotting\n",
    "    X += scale * np.random.random(X.shape)\n",
    "\n",
    "    #plots = 2\n",
    "\n",
    "    #fig, ax = plt.subplots(plots, plots, sharex=\"col\", sharey=\"row\", figsize=(8,8))\n",
    "    fig.subplots_adjust(left=0.05, right=0.95, bottom=0.05, top=0.95, hspace=0.1, wspace=0.1)\n",
    "\n",
    "    for i in range(plots):\n",
    "        for j in range(plots):\n",
    "            points = ax[i, j].scatter(X[:, j], X[:, i], c=y, s=20, alpha=0.6)\n",
    "            #print(points)\n",
    "\n",
    "    # remove tick labels\n",
    "    #for axi in ax.flat:\n",
    "    #    for axis in [axi.xaxis, axi.yaxis]:\n",
    "    #        axis.set_major_formatter(plt.NullFormatter())\n",
    "    #        #print (\"AXIS\")\n",
    "    plugins.connect(fig, plugins.LinkedBrush(points))\n",
    "\n",
    "\n",
    "interact_manual(setup_plot, scale=widgets.FloatSlider(min=0.0,max=1.0,value=.1))\n",
    "\n",
    "plugins.connect(fig, plugins.LinkedBrush(points))\n",
    "print(\"PLUGIN CONNECTED\")\n",
    "mpld3.display()\n",
    "#print(\"Displayed\")"
   ]
  },
  {
   "cell_type": "code",
   "execution_count": null,
   "metadata": {
    "collapsed": true
   },
   "outputs": [],
   "source": []
  },
  {
   "cell_type": "code",
   "execution_count": null,
   "metadata": {
    "collapsed": true
   },
   "outputs": [],
   "source": []
  },
  {
   "cell_type": "code",
   "execution_count": null,
   "metadata": {
    "collapsed": true
   },
   "outputs": [],
   "source": []
  },
  {
   "cell_type": "code",
   "execution_count": null,
   "metadata": {
    "collapsed": true
   },
   "outputs": [],
   "source": []
  },
  {
   "cell_type": "code",
   "execution_count": null,
   "metadata": {
    "collapsed": true
   },
   "outputs": [],
   "source": []
  },
  {
   "cell_type": "code",
   "execution_count": null,
   "metadata": {
    "collapsed": true
   },
   "outputs": [],
   "source": []
  },
  {
   "cell_type": "code",
   "execution_count": null,
   "metadata": {
    "collapsed": true
   },
   "outputs": [],
   "source": []
  },
  {
   "cell_type": "code",
   "execution_count": null,
   "metadata": {
    "collapsed": true
   },
   "outputs": [],
   "source": []
  },
  {
   "cell_type": "code",
   "execution_count": null,
   "metadata": {
    "collapsed": true
   },
   "outputs": [],
   "source": []
  },
  {
   "cell_type": "code",
   "execution_count": null,
   "metadata": {
    "collapsed": true
   },
   "outputs": [],
   "source": []
  },
  {
   "cell_type": "code",
   "execution_count": null,
   "metadata": {
    "collapsed": true
   },
   "outputs": [],
   "source": []
  },
  {
   "cell_type": "code",
   "execution_count": null,
   "metadata": {
    "collapsed": true
   },
   "outputs": [],
   "source": []
  },
  {
   "cell_type": "code",
   "execution_count": null,
   "metadata": {
    "collapsed": true
   },
   "outputs": [],
   "source": []
  },
  {
   "cell_type": "code",
   "execution_count": null,
   "metadata": {
    "collapsed": true
   },
   "outputs": [],
   "source": []
  },
  {
   "cell_type": "code",
   "execution_count": null,
   "metadata": {
    "collapsed": true
   },
   "outputs": [],
   "source": []
  }
 ],
 "metadata": {
  "kernelspec": {
   "display_name": "Python 3",
   "language": "python",
   "name": "python3"
  },
  "language_info": {
   "codemirror_mode": {
    "name": "ipython",
    "version": 3
   },
   "file_extension": ".py",
   "mimetype": "text/x-python",
   "name": "python",
   "nbconvert_exporter": "python",
   "pygments_lexer": "ipython3",
   "version": "3.4.3"
  }
 },
 "nbformat": 4,
 "nbformat_minor": 0
}
