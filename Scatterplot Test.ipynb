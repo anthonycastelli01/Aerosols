{
 "cells": [
  {
   "cell_type": "code",
   "execution_count": 1,
   "metadata": {
    "collapsed": false
   },
   "outputs": [
    {
     "name": "stdout",
     "output_type": "stream",
     "text": [
      "PLUGIN CONNECTED\n"
     ]
    },
    {
     "name": "stderr",
     "output_type": "stream",
     "text": [
      ":0: FutureWarning: IPython widgets are experimental and may change in the future.\n"
     ]
    },
    {
     "data": {
      "text/html": [
       "\n",
       "\n",
       "<style>\n",
       "\n",
       "</style>\n",
       "\n",
       "<div id=\"fig_el716344585414648722558140\"></div>\n",
       "<script>\n",
       "function mpld3_load_lib(url, callback){\n",
       "  var s = document.createElement('script');\n",
       "  s.src = url;\n",
       "  s.async = true;\n",
       "  s.onreadystatechange = s.onload = callback;\n",
       "  s.onerror = function(){console.warn(\"failed to load library \" + url);};\n",
       "  document.getElementsByTagName(\"head\")[0].appendChild(s);\n",
       "}\n",
       "\n",
       "if(typeof(mpld3) !== \"undefined\" && mpld3._mpld3IsLoaded){\n",
       "   // already loaded: just create the figure\n",
       "   !function(mpld3){\n",
       "       \n",
       "       mpld3.draw_figure(\"fig_el716344585414648722558140\", {\"axes\": [{\"texts\": [], \"xscale\": \"linear\", \"collections\": [], \"sharey\": [\"el71634520178016\"], \"xdomain\": [0.0, 1.0], \"id\": \"el71634519772624\", \"axesbg\": \"none\", \"xlim\": [0.0, 1.0], \"ydomain\": [0.0, 1.0], \"sharex\": [\"el71634520430448\"], \"images\": [], \"paths\": [], \"ylim\": [0.0, 1.0], \"axes\": [{\"tickformat\": \"\", \"grid\": {\"gridOn\": false}, \"nticks\": 6, \"tickvalues\": null, \"scale\": \"linear\", \"position\": \"bottom\", \"fontsize\": 10.0}, {\"tickformat\": null, \"grid\": {\"gridOn\": false}, \"nticks\": 6, \"tickvalues\": null, \"scale\": \"linear\", \"position\": \"left\", \"fontsize\": 10.0}], \"axesbgalpha\": null, \"bbox\": [0.125, 0.5477272727272728, 0.35227272727272724, 0.3522727272727272], \"markers\": [], \"lines\": [], \"zoomable\": true, \"yscale\": \"linear\"}, {\"texts\": [], \"xscale\": \"linear\", \"collections\": [], \"sharey\": [\"el71634519772624\"], \"xdomain\": [0.0, 1.0], \"id\": \"el71634520178016\", \"axesbg\": \"none\", \"xlim\": [0.0, 1.0], \"ydomain\": [0.0, 1.0], \"sharex\": [\"el71634520721880\"], \"images\": [], \"paths\": [], \"ylim\": [0.0, 1.0], \"axes\": [{\"tickformat\": \"\", \"grid\": {\"gridOn\": false}, \"nticks\": 6, \"tickvalues\": null, \"scale\": \"linear\", \"position\": \"bottom\", \"fontsize\": 10.0}, {\"tickformat\": \"\", \"grid\": {\"gridOn\": false}, \"nticks\": 6, \"tickvalues\": null, \"scale\": \"linear\", \"position\": \"left\", \"fontsize\": 10.0}], \"axesbgalpha\": null, \"bbox\": [0.5477272727272726, 0.5477272727272728, 0.3522727272727273, 0.3522727272727272], \"markers\": [], \"lines\": [], \"zoomable\": true, \"yscale\": \"linear\"}, {\"texts\": [], \"xscale\": \"linear\", \"collections\": [], \"sharey\": [\"el71634520721880\"], \"xdomain\": [0.0, 1.0], \"id\": \"el71634520430448\", \"axesbg\": \"none\", \"xlim\": [0.0, 1.0], \"ydomain\": [0.0, 1.0], \"sharex\": [\"el71634519772624\"], \"images\": [], \"paths\": [], \"ylim\": [0.0, 1.0], \"axes\": [{\"tickformat\": null, \"grid\": {\"gridOn\": false}, \"nticks\": 6, \"tickvalues\": null, \"scale\": \"linear\", \"position\": \"bottom\", \"fontsize\": 10.0}, {\"tickformat\": null, \"grid\": {\"gridOn\": false}, \"nticks\": 6, \"tickvalues\": null, \"scale\": \"linear\", \"position\": \"left\", \"fontsize\": 10.0}], \"axesbgalpha\": null, \"bbox\": [0.125, 0.1250000000000001, 0.35227272727272724, 0.35227272727272724], \"markers\": [], \"lines\": [], \"zoomable\": true, \"yscale\": \"linear\"}, {\"texts\": [], \"xscale\": \"linear\", \"collections\": [], \"sharey\": [\"el71634520430448\"], \"xdomain\": [0.0, 1.0], \"id\": \"el71634520721880\", \"axesbg\": \"none\", \"xlim\": [0.0, 1.0], \"ydomain\": [0.0, 1.0], \"sharex\": [\"el71634520178016\"], \"images\": [], \"paths\": [], \"ylim\": [0.0, 1.0], \"axes\": [{\"tickformat\": null, \"grid\": {\"gridOn\": false}, \"nticks\": 6, \"tickvalues\": null, \"scale\": \"linear\", \"position\": \"bottom\", \"fontsize\": 10.0}, {\"tickformat\": \"\", \"grid\": {\"gridOn\": false}, \"nticks\": 6, \"tickvalues\": null, \"scale\": \"linear\", \"position\": \"left\", \"fontsize\": 10.0}], \"axesbgalpha\": null, \"bbox\": [0.5477272727272726, 0.1250000000000001, 0.3522727272727273, 0.35227272727272724], \"markers\": [], \"lines\": [], \"zoomable\": true, \"yscale\": \"linear\"}], \"width\": 640.0, \"height\": 640.0, \"id\": \"el71634458541464\", \"data\": {}, \"plugins\": [{\"type\": \"reset\"}, {\"enabled\": false, \"type\": \"zoom\", \"button\": true}, {\"enabled\": false, \"type\": \"boxzoom\", \"button\": true}, {\"enabled\": true, \"type\": \"linkedbrush\", \"id\": \"el71634517840776\", \"button\": true}]});\n",
       "   }(mpld3);\n",
       "}else if(typeof define === \"function\" && define.amd){\n",
       "   // require.js is available: use it to load d3/mpld3\n",
       "   require.config({paths: {d3: \"https://mpld3.github.io/js/d3.v3.min\"}});\n",
       "   require([\"d3\"], function(d3){\n",
       "      window.d3 = d3;\n",
       "      mpld3_load_lib(\"https://mpld3.github.io/js/mpld3.v0.2.js\", function(){\n",
       "         \n",
       "         mpld3.draw_figure(\"fig_el716344585414648722558140\", {\"axes\": [{\"texts\": [], \"xscale\": \"linear\", \"collections\": [], \"sharey\": [\"el71634520178016\"], \"xdomain\": [0.0, 1.0], \"id\": \"el71634519772624\", \"axesbg\": \"none\", \"xlim\": [0.0, 1.0], \"ydomain\": [0.0, 1.0], \"sharex\": [\"el71634520430448\"], \"images\": [], \"paths\": [], \"ylim\": [0.0, 1.0], \"axes\": [{\"tickformat\": \"\", \"grid\": {\"gridOn\": false}, \"nticks\": 6, \"tickvalues\": null, \"scale\": \"linear\", \"position\": \"bottom\", \"fontsize\": 10.0}, {\"tickformat\": null, \"grid\": {\"gridOn\": false}, \"nticks\": 6, \"tickvalues\": null, \"scale\": \"linear\", \"position\": \"left\", \"fontsize\": 10.0}], \"axesbgalpha\": null, \"bbox\": [0.125, 0.5477272727272728, 0.35227272727272724, 0.3522727272727272], \"markers\": [], \"lines\": [], \"zoomable\": true, \"yscale\": \"linear\"}, {\"texts\": [], \"xscale\": \"linear\", \"collections\": [], \"sharey\": [\"el71634519772624\"], \"xdomain\": [0.0, 1.0], \"id\": \"el71634520178016\", \"axesbg\": \"none\", \"xlim\": [0.0, 1.0], \"ydomain\": [0.0, 1.0], \"sharex\": [\"el71634520721880\"], \"images\": [], \"paths\": [], \"ylim\": [0.0, 1.0], \"axes\": [{\"tickformat\": \"\", \"grid\": {\"gridOn\": false}, \"nticks\": 6, \"tickvalues\": null, \"scale\": \"linear\", \"position\": \"bottom\", \"fontsize\": 10.0}, {\"tickformat\": \"\", \"grid\": {\"gridOn\": false}, \"nticks\": 6, \"tickvalues\": null, \"scale\": \"linear\", \"position\": \"left\", \"fontsize\": 10.0}], \"axesbgalpha\": null, \"bbox\": [0.5477272727272726, 0.5477272727272728, 0.3522727272727273, 0.3522727272727272], \"markers\": [], \"lines\": [], \"zoomable\": true, \"yscale\": \"linear\"}, {\"texts\": [], \"xscale\": \"linear\", \"collections\": [], \"sharey\": [\"el71634520721880\"], \"xdomain\": [0.0, 1.0], \"id\": \"el71634520430448\", \"axesbg\": \"none\", \"xlim\": [0.0, 1.0], \"ydomain\": [0.0, 1.0], \"sharex\": [\"el71634519772624\"], \"images\": [], \"paths\": [], \"ylim\": [0.0, 1.0], \"axes\": [{\"tickformat\": null, \"grid\": {\"gridOn\": false}, \"nticks\": 6, \"tickvalues\": null, \"scale\": \"linear\", \"position\": \"bottom\", \"fontsize\": 10.0}, {\"tickformat\": null, \"grid\": {\"gridOn\": false}, \"nticks\": 6, \"tickvalues\": null, \"scale\": \"linear\", \"position\": \"left\", \"fontsize\": 10.0}], \"axesbgalpha\": null, \"bbox\": [0.125, 0.1250000000000001, 0.35227272727272724, 0.35227272727272724], \"markers\": [], \"lines\": [], \"zoomable\": true, \"yscale\": \"linear\"}, {\"texts\": [], \"xscale\": \"linear\", \"collections\": [], \"sharey\": [\"el71634520430448\"], \"xdomain\": [0.0, 1.0], \"id\": \"el71634520721880\", \"axesbg\": \"none\", \"xlim\": [0.0, 1.0], \"ydomain\": [0.0, 1.0], \"sharex\": [\"el71634520178016\"], \"images\": [], \"paths\": [], \"ylim\": [0.0, 1.0], \"axes\": [{\"tickformat\": null, \"grid\": {\"gridOn\": false}, \"nticks\": 6, \"tickvalues\": null, \"scale\": \"linear\", \"position\": \"bottom\", \"fontsize\": 10.0}, {\"tickformat\": \"\", \"grid\": {\"gridOn\": false}, \"nticks\": 6, \"tickvalues\": null, \"scale\": \"linear\", \"position\": \"left\", \"fontsize\": 10.0}], \"axesbgalpha\": null, \"bbox\": [0.5477272727272726, 0.1250000000000001, 0.3522727272727273, 0.35227272727272724], \"markers\": [], \"lines\": [], \"zoomable\": true, \"yscale\": \"linear\"}], \"width\": 640.0, \"height\": 640.0, \"id\": \"el71634458541464\", \"data\": {}, \"plugins\": [{\"type\": \"reset\"}, {\"enabled\": false, \"type\": \"zoom\", \"button\": true}, {\"enabled\": false, \"type\": \"boxzoom\", \"button\": true}, {\"enabled\": true, \"type\": \"linkedbrush\", \"id\": \"el71634517840776\", \"button\": true}]});\n",
       "      });\n",
       "    });\n",
       "}else{\n",
       "    // require.js not available: dynamically load d3 & mpld3\n",
       "    mpld3_load_lib(\"https://mpld3.github.io/js/d3.v3.min.js\", function(){\n",
       "         mpld3_load_lib(\"https://mpld3.github.io/js/mpld3.v0.2.js\", function(){\n",
       "                 \n",
       "                 mpld3.draw_figure(\"fig_el716344585414648722558140\", {\"axes\": [{\"texts\": [], \"xscale\": \"linear\", \"collections\": [], \"sharey\": [\"el71634520178016\"], \"xdomain\": [0.0, 1.0], \"id\": \"el71634519772624\", \"axesbg\": \"none\", \"xlim\": [0.0, 1.0], \"ydomain\": [0.0, 1.0], \"sharex\": [\"el71634520430448\"], \"images\": [], \"paths\": [], \"ylim\": [0.0, 1.0], \"axes\": [{\"tickformat\": \"\", \"grid\": {\"gridOn\": false}, \"nticks\": 6, \"tickvalues\": null, \"scale\": \"linear\", \"position\": \"bottom\", \"fontsize\": 10.0}, {\"tickformat\": null, \"grid\": {\"gridOn\": false}, \"nticks\": 6, \"tickvalues\": null, \"scale\": \"linear\", \"position\": \"left\", \"fontsize\": 10.0}], \"axesbgalpha\": null, \"bbox\": [0.125, 0.5477272727272728, 0.35227272727272724, 0.3522727272727272], \"markers\": [], \"lines\": [], \"zoomable\": true, \"yscale\": \"linear\"}, {\"texts\": [], \"xscale\": \"linear\", \"collections\": [], \"sharey\": [\"el71634519772624\"], \"xdomain\": [0.0, 1.0], \"id\": \"el71634520178016\", \"axesbg\": \"none\", \"xlim\": [0.0, 1.0], \"ydomain\": [0.0, 1.0], \"sharex\": [\"el71634520721880\"], \"images\": [], \"paths\": [], \"ylim\": [0.0, 1.0], \"axes\": [{\"tickformat\": \"\", \"grid\": {\"gridOn\": false}, \"nticks\": 6, \"tickvalues\": null, \"scale\": \"linear\", \"position\": \"bottom\", \"fontsize\": 10.0}, {\"tickformat\": \"\", \"grid\": {\"gridOn\": false}, \"nticks\": 6, \"tickvalues\": null, \"scale\": \"linear\", \"position\": \"left\", \"fontsize\": 10.0}], \"axesbgalpha\": null, \"bbox\": [0.5477272727272726, 0.5477272727272728, 0.3522727272727273, 0.3522727272727272], \"markers\": [], \"lines\": [], \"zoomable\": true, \"yscale\": \"linear\"}, {\"texts\": [], \"xscale\": \"linear\", \"collections\": [], \"sharey\": [\"el71634520721880\"], \"xdomain\": [0.0, 1.0], \"id\": \"el71634520430448\", \"axesbg\": \"none\", \"xlim\": [0.0, 1.0], \"ydomain\": [0.0, 1.0], \"sharex\": [\"el71634519772624\"], \"images\": [], \"paths\": [], \"ylim\": [0.0, 1.0], \"axes\": [{\"tickformat\": null, \"grid\": {\"gridOn\": false}, \"nticks\": 6, \"tickvalues\": null, \"scale\": \"linear\", \"position\": \"bottom\", \"fontsize\": 10.0}, {\"tickformat\": null, \"grid\": {\"gridOn\": false}, \"nticks\": 6, \"tickvalues\": null, \"scale\": \"linear\", \"position\": \"left\", \"fontsize\": 10.0}], \"axesbgalpha\": null, \"bbox\": [0.125, 0.1250000000000001, 0.35227272727272724, 0.35227272727272724], \"markers\": [], \"lines\": [], \"zoomable\": true, \"yscale\": \"linear\"}, {\"texts\": [], \"xscale\": \"linear\", \"collections\": [], \"sharey\": [\"el71634520430448\"], \"xdomain\": [0.0, 1.0], \"id\": \"el71634520721880\", \"axesbg\": \"none\", \"xlim\": [0.0, 1.0], \"ydomain\": [0.0, 1.0], \"sharex\": [\"el71634520178016\"], \"images\": [], \"paths\": [], \"ylim\": [0.0, 1.0], \"axes\": [{\"tickformat\": null, \"grid\": {\"gridOn\": false}, \"nticks\": 6, \"tickvalues\": null, \"scale\": \"linear\", \"position\": \"bottom\", \"fontsize\": 10.0}, {\"tickformat\": \"\", \"grid\": {\"gridOn\": false}, \"nticks\": 6, \"tickvalues\": null, \"scale\": \"linear\", \"position\": \"left\", \"fontsize\": 10.0}], \"axesbgalpha\": null, \"bbox\": [0.5477272727272726, 0.1250000000000001, 0.3522727272727273, 0.35227272727272724], \"markers\": [], \"lines\": [], \"zoomable\": true, \"yscale\": \"linear\"}], \"width\": 640.0, \"height\": 640.0, \"id\": \"el71634458541464\", \"data\": {}, \"plugins\": [{\"type\": \"reset\"}, {\"enabled\": false, \"type\": \"zoom\", \"button\": true}, {\"enabled\": false, \"type\": \"boxzoom\", \"button\": true}, {\"enabled\": true, \"type\": \"linkedbrush\", \"id\": \"el71634517840776\", \"button\": true}]});\n",
       "            })\n",
       "         });\n",
       "}\n",
       "</script>"
      ],
      "text/plain": [
       "<IPython.core.display.HTML object>"
      ]
     },
     "execution_count": 1,
     "metadata": {},
     "output_type": "execute_result"
    }
   ],
   "source": [
    "%matplotlib inline\n",
    "import numpy as np\n",
    "import matplotlib\n",
    "import matplotlib.pyplot as plt\n",
    "from sklearn.datasets import load_iris\n",
    "\n",
    "import mpld3\n",
    "from mpld3 import plugins, utils\n",
    "\n",
    "from IPython.html.widgets import interact, interactive, fixed\n",
    "from IPython.html import widgets\n",
    "from IPython.html.widgets.interaction import interact_manual\n",
    "\n",
    "plots = 2\n",
    "fig, ax = plt.subplots(plots, plots, sharex=\"col\", sharey=\"row\", figsize=(8,8))\n",
    "points = []\n",
    "\n",
    "def setup_plot(scale):\n",
    "    #print(\"Hello \" + str(scale))\n",
    "    \n",
    "    data = load_iris()\n",
    "    X = data.data\n",
    "    y = data.target\n",
    "\n",
    "    # dither the data for clearer plotting\n",
    "    X += scale * np.random.random(X.shape)\n",
    "\n",
    "    #plots = 2\n",
    "\n",
    "    #fig, ax = plt.subplots(plots, plots, sharex=\"col\", sharey=\"row\", figsize=(8,8))\n",
    "    fig.subplots_adjust(left=0.05, right=0.95, bottom=0.05, top=0.95, hspace=0.1, wspace=0.1)\n",
    "\n",
    "    for i in range(plots):\n",
    "        for j in range(plots):\n",
    "            points = ax[i, j].scatter(X[:, j], X[:, i], c=y, s=20, alpha=0.6)\n",
    "            #print(points)\n",
    "\n",
    "    # remove tick labels\n",
    "    #for axi in ax.flat:\n",
    "    #    for axis in [axi.xaxis, axi.yaxis]:\n",
    "    #        axis.set_major_formatter(plt.NullFormatter())\n",
    "    #        #print (\"AXIS\")\n",
    "    plugins.connect(fig, plugins.LinkedBrush(points))\n",
    "\n",
    "\n",
    "interact_manual(setup_plot, scale=widgets.FloatSlider(min=0.0,max=1.0,value=.1))\n",
    "\n",
    "plugins.connect(fig, plugins.LinkedBrush(points))\n",
    "print(\"PLUGIN CONNECTED\")\n",
    "mpld3.display()\n",
    "#print(\"Displayed\")"
   ]
  }
 ],
 "metadata": {
  "kernelspec": {
   "display_name": "Python 3",
   "language": "python",
   "name": "python3"
  },
  "language_info": {
   "codemirror_mode": {
    "name": "ipython",
    "version": 3
   },
   "file_extension": ".py",
   "mimetype": "text/x-python",
   "name": "python",
   "nbconvert_exporter": "python",
   "pygments_lexer": "ipython3",
   "version": "3.4.3"
  }
 },
 "nbformat": 4,
 "nbformat_minor": 0
}
