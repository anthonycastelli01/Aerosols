{
 "cells": [
  {
   "cell_type": "code",
   "execution_count": 3,
   "metadata": {
    "collapsed": false
   },
   "outputs": [
    {
     "data": {
      "text/html": [
       "\n",
       "\n",
       "<style>\n",
       "\n",
       "</style>\n",
       "\n",
       "<div id=\"fig_el3750747059266724591230868\"></div>\n",
       "<script>\n",
       "function mpld3_load_lib(url, callback){\n",
       "  var s = document.createElement('script');\n",
       "  s.src = url;\n",
       "  s.async = true;\n",
       "  s.onreadystatechange = s.onload = callback;\n",
       "  s.onerror = function(){console.warn(\"failed to load library \" + url);};\n",
       "  document.getElementsByTagName(\"head\")[0].appendChild(s);\n",
       "}\n",
       "\n",
       "if(typeof(mpld3) !== \"undefined\" && mpld3._mpld3IsLoaded){\n",
       "   // already loaded: just create the figure\n",
       "   !function(mpld3){\n",
       "       \n",
       "       mpld3.draw_figure(\"fig_el3750747059266724591230868\", {\"height\": 320.0, \"plugins\": [{\"type\": \"reset\"}, {\"type\": \"zoom\", \"button\": true, \"enabled\": false}, {\"type\": \"boxzoom\", \"button\": true, \"enabled\": false}], \"data\": {\"data01\": [[0.0, 1.0], [1.0, 2.0], [2.0, 3.0], [3.0, 4.0], [4.0, 5.0]]}, \"axes\": [{\"axesbgalpha\": null, \"axes\": [{\"scale\": \"linear\", \"fontsize\": 10.0, \"tickvalues\": null, \"position\": \"bottom\", \"tickformat\": null, \"nticks\": 9, \"grid\": {\"gridOn\": false}}, {\"scale\": \"linear\", \"fontsize\": 10.0, \"tickvalues\": null, \"position\": \"left\", \"tickformat\": null, \"nticks\": 9, \"grid\": {\"gridOn\": false}}], \"lines\": [{\"coordinates\": \"data\", \"linewidth\": 1.0, \"color\": \"#0000FF\", \"data\": \"data01\", \"alpha\": 1, \"zorder\": 2, \"yindex\": 1, \"dasharray\": \"10,0\", \"xindex\": 0, \"id\": \"el375074612790032\"}], \"axesbg\": \"none\", \"collections\": [], \"paths\": [], \"sharey\": [], \"sharex\": [], \"yscale\": \"linear\", \"images\": [], \"ylim\": [1.0, 5.0], \"markers\": [], \"texts\": [], \"xdomain\": [0.0, 4.0], \"id\": \"el375074708658648\", \"zoomable\": true, \"xscale\": \"linear\", \"xlim\": [0.0, 4.0], \"ydomain\": [1.0, 5.0], \"bbox\": [0.125, 0.125, 0.775, 0.775]}], \"width\": 480.0, \"id\": \"el375074705926672\"});\n",
       "   }(mpld3);\n",
       "}else if(typeof define === \"function\" && define.amd){\n",
       "   // require.js is available: use it to load d3/mpld3\n",
       "   require.config({paths: {d3: \"https://mpld3.github.io/js/d3.v3.min\"}});\n",
       "   require([\"d3\"], function(d3){\n",
       "      window.d3 = d3;\n",
       "      mpld3_load_lib(\"https://mpld3.github.io/js/mpld3.v0.2.js\", function(){\n",
       "         \n",
       "         mpld3.draw_figure(\"fig_el3750747059266724591230868\", {\"height\": 320.0, \"plugins\": [{\"type\": \"reset\"}, {\"type\": \"zoom\", \"button\": true, \"enabled\": false}, {\"type\": \"boxzoom\", \"button\": true, \"enabled\": false}], \"data\": {\"data01\": [[0.0, 1.0], [1.0, 2.0], [2.0, 3.0], [3.0, 4.0], [4.0, 5.0]]}, \"axes\": [{\"axesbgalpha\": null, \"axes\": [{\"scale\": \"linear\", \"fontsize\": 10.0, \"tickvalues\": null, \"position\": \"bottom\", \"tickformat\": null, \"nticks\": 9, \"grid\": {\"gridOn\": false}}, {\"scale\": \"linear\", \"fontsize\": 10.0, \"tickvalues\": null, \"position\": \"left\", \"tickformat\": null, \"nticks\": 9, \"grid\": {\"gridOn\": false}}], \"lines\": [{\"coordinates\": \"data\", \"linewidth\": 1.0, \"color\": \"#0000FF\", \"data\": \"data01\", \"alpha\": 1, \"zorder\": 2, \"yindex\": 1, \"dasharray\": \"10,0\", \"xindex\": 0, \"id\": \"el375074612790032\"}], \"axesbg\": \"none\", \"collections\": [], \"paths\": [], \"sharey\": [], \"sharex\": [], \"yscale\": \"linear\", \"images\": [], \"ylim\": [1.0, 5.0], \"markers\": [], \"texts\": [], \"xdomain\": [0.0, 4.0], \"id\": \"el375074708658648\", \"zoomable\": true, \"xscale\": \"linear\", \"xlim\": [0.0, 4.0], \"ydomain\": [1.0, 5.0], \"bbox\": [0.125, 0.125, 0.775, 0.775]}], \"width\": 480.0, \"id\": \"el375074705926672\"});\n",
       "      });\n",
       "    });\n",
       "}else{\n",
       "    // require.js not available: dynamically load d3 & mpld3\n",
       "    mpld3_load_lib(\"https://mpld3.github.io/js/d3.v3.min.js\", function(){\n",
       "         mpld3_load_lib(\"https://mpld3.github.io/js/mpld3.v0.2.js\", function(){\n",
       "                 \n",
       "                 mpld3.draw_figure(\"fig_el3750747059266724591230868\", {\"height\": 320.0, \"plugins\": [{\"type\": \"reset\"}, {\"type\": \"zoom\", \"button\": true, \"enabled\": false}, {\"type\": \"boxzoom\", \"button\": true, \"enabled\": false}], \"data\": {\"data01\": [[0.0, 1.0], [1.0, 2.0], [2.0, 3.0], [3.0, 4.0], [4.0, 5.0]]}, \"axes\": [{\"axesbgalpha\": null, \"axes\": [{\"scale\": \"linear\", \"fontsize\": 10.0, \"tickvalues\": null, \"position\": \"bottom\", \"tickformat\": null, \"nticks\": 9, \"grid\": {\"gridOn\": false}}, {\"scale\": \"linear\", \"fontsize\": 10.0, \"tickvalues\": null, \"position\": \"left\", \"tickformat\": null, \"nticks\": 9, \"grid\": {\"gridOn\": false}}], \"lines\": [{\"coordinates\": \"data\", \"linewidth\": 1.0, \"color\": \"#0000FF\", \"data\": \"data01\", \"alpha\": 1, \"zorder\": 2, \"yindex\": 1, \"dasharray\": \"10,0\", \"xindex\": 0, \"id\": \"el375074612790032\"}], \"axesbg\": \"none\", \"collections\": [], \"paths\": [], \"sharey\": [], \"sharex\": [], \"yscale\": \"linear\", \"images\": [], \"ylim\": [1.0, 5.0], \"markers\": [], \"texts\": [], \"xdomain\": [0.0, 4.0], \"id\": \"el375074708658648\", \"zoomable\": true, \"xscale\": \"linear\", \"xlim\": [0.0, 4.0], \"ydomain\": [1.0, 5.0], \"bbox\": [0.125, 0.125, 0.775, 0.775]}], \"width\": 480.0, \"id\": \"el375074705926672\"});\n",
       "            })\n",
       "         });\n",
       "}\n",
       "</script>"
      ],
      "text/plain": [
       "<IPython.core.display.HTML object>"
      ]
     },
     "execution_count": 3,
     "metadata": {},
     "output_type": "execute_result"
    }
   ],
   "source": [
    "%matplotlib inline\n",
    "import matplotlib\n",
    "import matplotlib.pyplot as plt\n",
    "import numpy as np\n",
    "import mpld3\n",
    "from mpld3 import plugins, utils\n",
    "\n",
    "y = [1,2,3,4,5]\n",
    "plt.plot(y)\n",
    "mpld3.display()"
   ]
  },
  {
   "cell_type": "code",
   "execution_count": 2,
   "metadata": {
    "collapsed": false
   },
   "outputs": [
    {
     "data": {
      "text/html": [
       "\n",
       "\n",
       "<style>\n",
       "\n",
       "</style>\n",
       "\n",
       "<div id=\"fig_el3750744489402167028990519\"></div>\n",
       "<script>\n",
       "function mpld3_load_lib(url, callback){\n",
       "  var s = document.createElement('script');\n",
       "  s.src = url;\n",
       "  s.async = true;\n",
       "  s.onreadystatechange = s.onload = callback;\n",
       "  s.onerror = function(){console.warn(\"failed to load library \" + url);};\n",
       "  document.getElementsByTagName(\"head\")[0].appendChild(s);\n",
       "}\n",
       "\n",
       "if(typeof(mpld3) !== \"undefined\" && mpld3._mpld3IsLoaded){\n",
       "   // already loaded: just create the figure\n",
       "   !function(mpld3){\n",
       "       \n",
       "       mpld3.draw_figure(\"fig_el3750744489402167028990519\", {\"height\": 480.0, \"plugins\": [{\"type\": \"reset\"}, {\"type\": \"zoom\", \"button\": true, \"enabled\": false}, {\"type\": \"boxzoom\", \"button\": true, \"enabled\": false}], \"data\": {\"data01\": [[0.0, 3.0], [1.0, 1.0], [2.0, 4.0], [3.0, 1.0], [4.0, 5.0]]}, \"axes\": [{\"axesbgalpha\": null, \"axes\": [{\"scale\": \"linear\", \"fontsize\": 12.0, \"tickvalues\": null, \"position\": \"bottom\", \"tickformat\": null, \"nticks\": 9, \"grid\": {\"gridOn\": false}}, {\"scale\": \"linear\", \"fontsize\": 12.0, \"tickvalues\": null, \"position\": \"left\", \"tickformat\": null, \"nticks\": 9, \"grid\": {\"gridOn\": false}}], \"lines\": [{\"coordinates\": \"data\", \"linewidth\": 1.0, \"color\": \"#000000\", \"data\": \"data01\", \"alpha\": 1, \"zorder\": 2, \"yindex\": 1, \"dasharray\": \"10,0\", \"xindex\": 0, \"id\": \"el375074705888016\"}, {\"coordinates\": \"data\", \"linewidth\": 1.0, \"color\": \"#000000\", \"data\": \"data01\", \"alpha\": 1, \"zorder\": 2, \"yindex\": 1, \"dasharray\": \"10,0\", \"xindex\": 0, \"id\": \"el375074708072920\"}], \"axesbg\": \"#FFFFFF\", \"collections\": [], \"paths\": [], \"sharey\": [], \"sharex\": [], \"yscale\": \"linear\", \"images\": [], \"ylim\": [1.0, 5.0], \"markers\": [{\"coordinates\": \"data\", \"alpha\": 1, \"markerpath\": [[[-10.0, 10.0], [10.0, 10.0], [10.0, -10.0], [-10.0, -10.0]], [\"M\", \"L\", \"L\", \"L\", \"Z\"]], \"edgecolor\": \"#FFFFFF\", \"data\": \"data01\", \"edgewidth\": 5, \"facecolor\": \"#000000\", \"zorder\": 2, \"yindex\": 1, \"xindex\": 0, \"id\": \"el375074705888016pts\"}, {\"coordinates\": \"data\", \"alpha\": 1, \"markerpath\": [[[-10.0, 10.0], [10.0, 10.0], [10.0, -10.0], [-10.0, -10.0]], [\"M\", \"L\", \"L\", \"L\", \"Z\"]], \"edgecolor\": \"#FFFFFF\", \"data\": \"data01\", \"edgewidth\": 5, \"facecolor\": \"#000000\", \"zorder\": 2, \"yindex\": 1, \"xindex\": 0, \"id\": \"el375074708072920pts\"}], \"texts\": [], \"xdomain\": [0.0, 4.0], \"id\": \"el375074612133048\", \"zoomable\": true, \"xscale\": \"linear\", \"xlim\": [0.0, 4.0], \"ydomain\": [1.0, 5.0], \"bbox\": [0.125, 0.09999999999999998, 0.775, 0.8]}], \"width\": 640.0, \"id\": \"el375074448940216\"});\n",
       "   }(mpld3);\n",
       "}else if(typeof define === \"function\" && define.amd){\n",
       "   // require.js is available: use it to load d3/mpld3\n",
       "   require.config({paths: {d3: \"https://mpld3.github.io/js/d3.v3.min\"}});\n",
       "   require([\"d3\"], function(d3){\n",
       "      window.d3 = d3;\n",
       "      mpld3_load_lib(\"https://mpld3.github.io/js/mpld3.v0.2.js\", function(){\n",
       "         \n",
       "         mpld3.draw_figure(\"fig_el3750744489402167028990519\", {\"height\": 480.0, \"plugins\": [{\"type\": \"reset\"}, {\"type\": \"zoom\", \"button\": true, \"enabled\": false}, {\"type\": \"boxzoom\", \"button\": true, \"enabled\": false}], \"data\": {\"data01\": [[0.0, 3.0], [1.0, 1.0], [2.0, 4.0], [3.0, 1.0], [4.0, 5.0]]}, \"axes\": [{\"axesbgalpha\": null, \"axes\": [{\"scale\": \"linear\", \"fontsize\": 12.0, \"tickvalues\": null, \"position\": \"bottom\", \"tickformat\": null, \"nticks\": 9, \"grid\": {\"gridOn\": false}}, {\"scale\": \"linear\", \"fontsize\": 12.0, \"tickvalues\": null, \"position\": \"left\", \"tickformat\": null, \"nticks\": 9, \"grid\": {\"gridOn\": false}}], \"lines\": [{\"coordinates\": \"data\", \"linewidth\": 1.0, \"color\": \"#000000\", \"data\": \"data01\", \"alpha\": 1, \"zorder\": 2, \"yindex\": 1, \"dasharray\": \"10,0\", \"xindex\": 0, \"id\": \"el375074705888016\"}, {\"coordinates\": \"data\", \"linewidth\": 1.0, \"color\": \"#000000\", \"data\": \"data01\", \"alpha\": 1, \"zorder\": 2, \"yindex\": 1, \"dasharray\": \"10,0\", \"xindex\": 0, \"id\": \"el375074708072920\"}], \"axesbg\": \"#FFFFFF\", \"collections\": [], \"paths\": [], \"sharey\": [], \"sharex\": [], \"yscale\": \"linear\", \"images\": [], \"ylim\": [1.0, 5.0], \"markers\": [{\"coordinates\": \"data\", \"alpha\": 1, \"markerpath\": [[[-10.0, 10.0], [10.0, 10.0], [10.0, -10.0], [-10.0, -10.0]], [\"M\", \"L\", \"L\", \"L\", \"Z\"]], \"edgecolor\": \"#FFFFFF\", \"data\": \"data01\", \"edgewidth\": 5, \"facecolor\": \"#000000\", \"zorder\": 2, \"yindex\": 1, \"xindex\": 0, \"id\": \"el375074705888016pts\"}, {\"coordinates\": \"data\", \"alpha\": 1, \"markerpath\": [[[-10.0, 10.0], [10.0, 10.0], [10.0, -10.0], [-10.0, -10.0]], [\"M\", \"L\", \"L\", \"L\", \"Z\"]], \"edgecolor\": \"#FFFFFF\", \"data\": \"data01\", \"edgewidth\": 5, \"facecolor\": \"#000000\", \"zorder\": 2, \"yindex\": 1, \"xindex\": 0, \"id\": \"el375074708072920pts\"}], \"texts\": [], \"xdomain\": [0.0, 4.0], \"id\": \"el375074612133048\", \"zoomable\": true, \"xscale\": \"linear\", \"xlim\": [0.0, 4.0], \"ydomain\": [1.0, 5.0], \"bbox\": [0.125, 0.09999999999999998, 0.775, 0.8]}], \"width\": 640.0, \"id\": \"el375074448940216\"});\n",
       "      });\n",
       "    });\n",
       "}else{\n",
       "    // require.js not available: dynamically load d3 & mpld3\n",
       "    mpld3_load_lib(\"https://mpld3.github.io/js/d3.v3.min.js\", function(){\n",
       "         mpld3_load_lib(\"https://mpld3.github.io/js/mpld3.v0.2.js\", function(){\n",
       "                 \n",
       "                 mpld3.draw_figure(\"fig_el3750744489402167028990519\", {\"height\": 480.0, \"plugins\": [{\"type\": \"reset\"}, {\"type\": \"zoom\", \"button\": true, \"enabled\": false}, {\"type\": \"boxzoom\", \"button\": true, \"enabled\": false}], \"data\": {\"data01\": [[0.0, 3.0], [1.0, 1.0], [2.0, 4.0], [3.0, 1.0], [4.0, 5.0]]}, \"axes\": [{\"axesbgalpha\": null, \"axes\": [{\"scale\": \"linear\", \"fontsize\": 12.0, \"tickvalues\": null, \"position\": \"bottom\", \"tickformat\": null, \"nticks\": 9, \"grid\": {\"gridOn\": false}}, {\"scale\": \"linear\", \"fontsize\": 12.0, \"tickvalues\": null, \"position\": \"left\", \"tickformat\": null, \"nticks\": 9, \"grid\": {\"gridOn\": false}}], \"lines\": [{\"coordinates\": \"data\", \"linewidth\": 1.0, \"color\": \"#000000\", \"data\": \"data01\", \"alpha\": 1, \"zorder\": 2, \"yindex\": 1, \"dasharray\": \"10,0\", \"xindex\": 0, \"id\": \"el375074705888016\"}, {\"coordinates\": \"data\", \"linewidth\": 1.0, \"color\": \"#000000\", \"data\": \"data01\", \"alpha\": 1, \"zorder\": 2, \"yindex\": 1, \"dasharray\": \"10,0\", \"xindex\": 0, \"id\": \"el375074708072920\"}], \"axesbg\": \"#FFFFFF\", \"collections\": [], \"paths\": [], \"sharey\": [], \"sharex\": [], \"yscale\": \"linear\", \"images\": [], \"ylim\": [1.0, 5.0], \"markers\": [{\"coordinates\": \"data\", \"alpha\": 1, \"markerpath\": [[[-10.0, 10.0], [10.0, 10.0], [10.0, -10.0], [-10.0, -10.0]], [\"M\", \"L\", \"L\", \"L\", \"Z\"]], \"edgecolor\": \"#FFFFFF\", \"data\": \"data01\", \"edgewidth\": 5, \"facecolor\": \"#000000\", \"zorder\": 2, \"yindex\": 1, \"xindex\": 0, \"id\": \"el375074705888016pts\"}, {\"coordinates\": \"data\", \"alpha\": 1, \"markerpath\": [[[-10.0, 10.0], [10.0, 10.0], [10.0, -10.0], [-10.0, -10.0]], [\"M\", \"L\", \"L\", \"L\", \"Z\"]], \"edgecolor\": \"#FFFFFF\", \"data\": \"data01\", \"edgewidth\": 5, \"facecolor\": \"#000000\", \"zorder\": 2, \"yindex\": 1, \"xindex\": 0, \"id\": \"el375074708072920pts\"}], \"texts\": [], \"xdomain\": [0.0, 4.0], \"id\": \"el375074612133048\", \"zoomable\": true, \"xscale\": \"linear\", \"xlim\": [0.0, 4.0], \"ydomain\": [1.0, 5.0], \"bbox\": [0.125, 0.09999999999999998, 0.775, 0.8]}], \"width\": 640.0, \"id\": \"el375074448940216\"});\n",
       "            })\n",
       "         });\n",
       "}\n",
       "</script>"
      ],
      "text/plain": [
       "<IPython.core.display.HTML object>"
      ]
     },
     "execution_count": 2,
     "metadata": {},
     "output_type": "execute_result"
    }
   ],
   "source": [
    "import matplotlib.pyplot as plt, mpld3\n",
    "plt.plot([3,1,4,1,5], 'ks-', mec='w', mew=5, ms=20)\n",
    "mpld3.display()"
   ]
  },
  {
   "cell_type": "code",
   "execution_count": null,
   "metadata": {
    "collapsed": true
   },
   "outputs": [],
   "source": []
  },
  {
   "cell_type": "code",
   "execution_count": null,
   "metadata": {
    "collapsed": true
   },
   "outputs": [],
   "source": []
  },
  {
   "cell_type": "code",
   "execution_count": null,
   "metadata": {
    "collapsed": true
   },
   "outputs": [],
   "source": []
  },
  {
   "cell_type": "code",
   "execution_count": null,
   "metadata": {
    "collapsed": true
   },
   "outputs": [],
   "source": []
  },
  {
   "cell_type": "code",
   "execution_count": null,
   "metadata": {
    "collapsed": true
   },
   "outputs": [],
   "source": []
  },
  {
   "cell_type": "code",
   "execution_count": null,
   "metadata": {
    "collapsed": true
   },
   "outputs": [],
   "source": []
  }
 ],
 "metadata": {
  "kernelspec": {
   "display_name": "Python 3",
   "language": "python",
   "name": "python3"
  },
  "language_info": {
   "codemirror_mode": {
    "name": "ipython",
    "version": 3
   },
   "file_extension": ".py",
   "mimetype": "text/x-python",
   "name": "python",
   "nbconvert_exporter": "python",
   "pygments_lexer": "ipython3",
   "version": "3.4.3"
  }
 },
 "nbformat": 4,
 "nbformat_minor": 0
}
